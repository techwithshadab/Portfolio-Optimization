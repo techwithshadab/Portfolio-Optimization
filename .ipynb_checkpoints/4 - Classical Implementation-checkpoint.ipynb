{
 "cells": [
  {
   "cell_type": "markdown",
   "id": "867dccb2",
   "metadata": {},
   "source": [
    "## Portfolio Selection"
   ]
  },
  {
   "cell_type": "markdown",
   "id": "a8c16ec3",
   "metadata": {},
   "source": [
    "Markowitz(1952): “Portfolio Selection”:\n",
    "\n",
    "> “Various reasons recommend the use of the expected return-variance of return rule, both as a hypothesis to explain well-established investment behavior and as a maxim to guide one's own action.”"
   ]
  },
  {
   "cell_type": "markdown",
   "id": "7df6181d",
   "metadata": {},
   "source": [
    "In what follows, the composition of a portfolio made up of different risky assets is analyzed in light of the **Mean-Variance Portfolio Theory (MVP)** of Markowitz (1952), i.e. with regard to the resulting **expected portfolio return** and **expected portfolio volatility** (instead of variance)."
   ]
  },
  {
   "cell_type": "markdown",
   "id": "ddef15a2",
   "metadata": {},
   "source": [
    "## Importing Required Packages"
   ]
  },
  {
   "cell_type": "code",
   "execution_count": 40,
   "id": "267ced84",
   "metadata": {},
   "outputs": [],
   "source": [
    "import warnings\n",
    "warnings.filterwarnings('ignore')\n",
    "import math\n",
    "import numpy as np  # NumPy\n",
    "import pandas as pd  # pandas\n",
    "import scipy.optimize as sco  # optimization routines\n",
    "from datetime import datetime\n",
    "import matplotlib.pyplot as plt\n",
    "%matplotlib inline"
   ]
  },
  {
   "cell_type": "markdown",
   "id": "532d52e9",
   "metadata": {},
   "source": [
    "# Get the data\n",
    "\n",
    "Depending on each case your data may look a little bit different but we should start by obtaining asset data for our next steps. We will use Binance API to obtain information about a set of assets and derive our calculations from there."
   ]
  },
  {
   "cell_type": "code",
   "execution_count": 48,
   "id": "2f267c79",
   "metadata": {},
   "outputs": [
    {
     "data": {
      "text/html": [
       "<div>\n",
       "<style scoped>\n",
       "    .dataframe tbody tr th:only-of-type {\n",
       "        vertical-align: middle;\n",
       "    }\n",
       "\n",
       "    .dataframe tbody tr th {\n",
       "        vertical-align: top;\n",
       "    }\n",
       "\n",
       "    .dataframe thead th {\n",
       "        text-align: right;\n",
       "    }\n",
       "</style>\n",
       "<table border=\"1\" class=\"dataframe\">\n",
       "  <thead>\n",
       "    <tr style=\"text-align: right;\">\n",
       "      <th>Asset</th>\n",
       "      <th>HDFC</th>\n",
       "      <th>HINDUNILVR</th>\n",
       "      <th>INFY</th>\n",
       "      <th>TCS</th>\n",
       "    </tr>\n",
       "    <tr>\n",
       "      <th>Date</th>\n",
       "      <th></th>\n",
       "      <th></th>\n",
       "      <th></th>\n",
       "      <th></th>\n",
       "    </tr>\n",
       "  </thead>\n",
       "  <tbody>\n",
       "    <tr>\n",
       "      <th>2017-01-12</th>\n",
       "      <td>924.099976</td>\n",
       "      <td>1250.500000</td>\n",
       "      <td>7.530</td>\n",
       "      <td>5.90</td>\n",
       "    </tr>\n",
       "    <tr>\n",
       "      <th>2017-04-12</th>\n",
       "      <td>917.049988</td>\n",
       "      <td>1268.599976</td>\n",
       "      <td>7.730</td>\n",
       "      <td>6.09</td>\n",
       "    </tr>\n",
       "    <tr>\n",
       "      <th>2017-05-12</th>\n",
       "      <td>910.224976</td>\n",
       "      <td>1261.000000</td>\n",
       "      <td>7.845</td>\n",
       "      <td>6.05</td>\n",
       "    </tr>\n",
       "    <tr>\n",
       "      <th>2017-06-12</th>\n",
       "      <td>901.650024</td>\n",
       "      <td>1275.599976</td>\n",
       "      <td>7.780</td>\n",
       "      <td>6.03</td>\n",
       "    </tr>\n",
       "    <tr>\n",
       "      <th>2017-07-12</th>\n",
       "      <td>904.825012</td>\n",
       "      <td>1291.949951</td>\n",
       "      <td>7.835</td>\n",
       "      <td>6.07</td>\n",
       "    </tr>\n",
       "  </tbody>\n",
       "</table>\n",
       "</div>"
      ],
      "text/plain": [
       "Asset             HDFC   HINDUNILVR   INFY   TCS\n",
       "Date                                            \n",
       "2017-01-12  924.099976  1250.500000  7.530  5.90\n",
       "2017-04-12  917.049988  1268.599976  7.730  6.09\n",
       "2017-05-12  910.224976  1261.000000  7.845  6.05\n",
       "2017-06-12  901.650024  1275.599976  7.780  6.03\n",
       "2017-07-12  904.825012  1291.949951  7.835  6.07"
      ]
     },
     "execution_count": 48,
     "metadata": {},
     "output_type": "execute_result"
    }
   ],
   "source": [
    "data = pd.read_csv(\"data.csv\")\n",
    "data = data[[\"Date\", \"Asset\", \"Close\"]]\n",
    "data['Date'] = pd.to_datetime(data['Date'])\n",
    "rics = list(data.Asset.unique())\n",
    "data = data.pivot(index=\"Date\", columns=\"Asset\", values=\"Close\")\n",
    "data = data.sort_index()\n",
    "data.head()"
   ]
  },
  {
   "cell_type": "code",
   "execution_count": 50,
   "id": "5e4475bf",
   "metadata": {},
   "outputs": [],
   "source": [
    "data.dropna(inplace=True)"
   ]
  },
  {
   "cell_type": "code",
   "execution_count": 51,
   "id": "1c5e0c2d",
   "metadata": {},
   "outputs": [
    {
     "name": "stdout",
     "output_type": "stream",
     "text": [
      "<class 'pandas.core.frame.DataFrame'>\n",
      "DatetimeIndex: 1197 entries, 2017-01-12 to 2022-12-10\n",
      "Data columns (total 4 columns):\n",
      " #   Column      Non-Null Count  Dtype  \n",
      "---  ------      --------------  -----  \n",
      " 0   HDFC        1197 non-null   float64\n",
      " 1   HINDUNILVR  1197 non-null   float64\n",
      " 2   INFY        1197 non-null   float64\n",
      " 3   TCS         1197 non-null   float64\n",
      "dtypes: float64(4)\n",
      "memory usage: 46.8 KB\n"
     ]
    }
   ],
   "source": [
    "data.info()  # DataFrame meta information"
   ]
  },
  {
   "cell_type": "markdown",
   "id": "1b7aced2",
   "metadata": {},
   "source": [
    "## Statistics for Single Instruments\n",
    "\n",
    "We calculate the **log returns** in vectorized fashion for all financial instruments and all days available."
   ]
  },
  {
   "cell_type": "code",
   "execution_count": 53,
   "id": "9e8b2ccf",
   "metadata": {},
   "outputs": [
    {
     "data": {
      "text/plain": [
       "(366, 4)"
      ]
     },
     "execution_count": 53,
     "metadata": {},
     "output_type": "execute_result"
    }
   ],
   "source": [
    "data = data.iloc[-366:,]\n",
    "data.shape"
   ]
  },
  {
   "cell_type": "code",
   "execution_count": 54,
   "id": "04017ae4",
   "metadata": {},
   "outputs": [],
   "source": [
    "rets = np.log(data / data.shift(1))  # log returns in vectorized fashion"
   ]
  },
  {
   "cell_type": "code",
   "execution_count": 55,
   "id": "48cd78a7",
   "metadata": {},
   "outputs": [
    {
     "data": {
      "text/html": [
       "<div>\n",
       "<style scoped>\n",
       "    .dataframe tbody tr th:only-of-type {\n",
       "        vertical-align: middle;\n",
       "    }\n",
       "\n",
       "    .dataframe tbody tr th {\n",
       "        vertical-align: top;\n",
       "    }\n",
       "\n",
       "    .dataframe thead th {\n",
       "        text-align: right;\n",
       "    }\n",
       "</style>\n",
       "<table border=\"1\" class=\"dataframe\">\n",
       "  <thead>\n",
       "    <tr style=\"text-align: right;\">\n",
       "      <th>Asset</th>\n",
       "      <th>HDFC</th>\n",
       "      <th>HINDUNILVR</th>\n",
       "      <th>INFY</th>\n",
       "      <th>TCS</th>\n",
       "    </tr>\n",
       "    <tr>\n",
       "      <th>Date</th>\n",
       "      <th></th>\n",
       "      <th></th>\n",
       "      <th></th>\n",
       "      <th></th>\n",
       "    </tr>\n",
       "  </thead>\n",
       "  <tbody>\n",
       "    <tr>\n",
       "      <th>2021-05-02</th>\n",
       "      <td>NaN</td>\n",
       "      <td>NaN</td>\n",
       "      <td>NaN</td>\n",
       "      <td>NaN</td>\n",
       "    </tr>\n",
       "    <tr>\n",
       "      <th>2021-05-03</th>\n",
       "      <td>-0.043235</td>\n",
       "      <td>-0.030624</td>\n",
       "      <td>0.036206</td>\n",
       "      <td>-0.036838</td>\n",
       "    </tr>\n",
       "    <tr>\n",
       "      <th>2021-05-04</th>\n",
       "      <td>-0.053980</td>\n",
       "      <td>0.075282</td>\n",
       "      <td>0.057918</td>\n",
       "      <td>0.069300</td>\n",
       "    </tr>\n",
       "    <tr>\n",
       "      <th>2021-05-05</th>\n",
       "      <td>-0.032960</td>\n",
       "      <td>0.008998</td>\n",
       "      <td>-0.057371</td>\n",
       "      <td>-0.253071</td>\n",
       "    </tr>\n",
       "    <tr>\n",
       "      <th>2021-05-08</th>\n",
       "      <td>0.056986</td>\n",
       "      <td>-0.015550</td>\n",
       "      <td>0.210710</td>\n",
       "      <td>-0.109412</td>\n",
       "    </tr>\n",
       "  </tbody>\n",
       "</table>\n",
       "</div>"
      ],
      "text/plain": [
       "Asset           HDFC  HINDUNILVR      INFY       TCS\n",
       "Date                                                \n",
       "2021-05-02       NaN         NaN       NaN       NaN\n",
       "2021-05-03 -0.043235   -0.030624  0.036206 -0.036838\n",
       "2021-05-04 -0.053980    0.075282  0.057918  0.069300\n",
       "2021-05-05 -0.032960    0.008998 -0.057371 -0.253071\n",
       "2021-05-08  0.056986   -0.015550  0.210710 -0.109412"
      ]
     },
     "execution_count": 55,
     "metadata": {},
     "output_type": "execute_result"
    }
   ],
   "source": [
    "rets.head()"
   ]
  },
  {
   "cell_type": "code",
   "execution_count": 56,
   "id": "d1460f7a",
   "metadata": {},
   "outputs": [
    {
     "data": {
      "image/png": "[encoded data removed]",
      "text/plain": [
       "<Figure size 640x480 with 4 Axes>"
      ]
     },
     "metadata": {},
     "output_type": "display_data"
    }
   ],
   "source": [
    "plt.subplot(2,2,1)\n",
    "plt.hist(rets['HDFC'], bins = 10)\n",
    "plt.title('A Histogram of HDFC')\n",
    "plt.subplot(2,2,2)\n",
    "plt.hist(rets['HINDUNILVR'], bins = 10)\n",
    "plt.title('A Histogram of HINDUNILVR')\n",
    "plt.subplot(2,2,3)\n",
    "plt.hist(rets['INFY'], bins = 10)\n",
    "plt.title('A Histogram of INFY')\n",
    "plt.subplot(2,2,4)\n",
    "plt.hist(rets['TCS'], bins = 10)\n",
    "plt.title('A Histogram of TCS')\n",
    "plt.tight_layout()"
   ]
  },
  {
   "cell_type": "markdown",
   "id": "45a6c762",
   "metadata": {},
   "source": [
    "In MVP, the **average returns** of the financial instruments play an important role since they are used to approximate the **expected returns**."
   ]
  },
  {
   "cell_type": "code",
   "execution_count": 57,
   "id": "a71693f2",
   "metadata": {},
   "outputs": [
    {
     "data": {
      "text/plain": [
       "Asset\n",
       "HDFC         -0.000343\n",
       "HINDUNILVR    0.000363\n",
       "INFY         -0.000084\n",
       "TCS          -0.002929\n",
       "dtype: float64"
      ]
     },
     "execution_count": 57,
     "metadata": {},
     "output_type": "execute_result"
    }
   ],
   "source": [
    "rets.mean()  # daily mean returns"
   ]
  },
  {
   "cell_type": "code",
   "execution_count": 58,
   "id": "24a9707b",
   "metadata": {},
   "outputs": [
    {
     "data": {
      "text/plain": [
       "Asset\n",
       "HDFC         -0.125397\n",
       "HINDUNILVR    0.132961\n",
       "INFY         -0.030607\n",
       "TCS          -1.072155\n",
       "dtype: float64"
      ]
     },
     "execution_count": 58,
     "metadata": {},
     "output_type": "execute_result"
    }
   ],
   "source": [
    "rets.mean() * 366  # annualied mean returns"
   ]
  },
  {
   "cell_type": "code",
   "execution_count": 59,
   "id": "ac53c9e5",
   "metadata": {
    "scrolled": false
   },
   "outputs": [
    {
     "data": {
      "image/png": "[encoded data removed]",
      "text/plain": [
       "<Figure size 640x480 with 1 Axes>"
      ]
     },
     "metadata": {},
     "output_type": "display_data"
    }
   ],
   "source": [
    "(rets.mean() * 366).plot(kind=\"bar\")\n",
    "plt.show()"
   ]
  },
  {
   "cell_type": "markdown",
   "id": "0b6d4a9d",
   "metadata": {},
   "source": [
    "On the other hand, the historical volatility (standard deviation of returns) plays an important role, although it is not used"
   ]
  },
  {
   "cell_type": "code",
   "execution_count": 60,
   "id": "e9537121",
   "metadata": {},
   "outputs": [
    {
     "data": {
      "text/plain": [
       "Asset\n",
       "HDFC          0.045402\n",
       "HINDUNILVR    0.059199\n",
       "INFY          0.080300\n",
       "TCS           0.156940\n",
       "dtype: float64"
      ]
     },
     "execution_count": 60,
     "metadata": {},
     "output_type": "execute_result"
    }
   ],
   "source": [
    "rets.std()  # daily volatilities"
   ]
  },
  {
   "cell_type": "code",
   "execution_count": 61,
   "id": "64318d79",
   "metadata": {},
   "outputs": [
    {
     "data": {
      "text/plain": [
       "Asset\n",
       "HDFC          0.868598\n",
       "HINDUNILVR    1.132543\n",
       "INFY          1.536231\n",
       "TCS           3.002431\n",
       "dtype: float64"
      ]
     },
     "execution_count": 61,
     "metadata": {},
     "output_type": "execute_result"
    }
   ],
   "source": [
    "rets.std() * math.sqrt(366)  # annualized volatilities"
   ]
  },
  {
   "cell_type": "code",
   "execution_count": 62,
   "id": "0bdb22ec",
   "metadata": {},
   "outputs": [
    {
     "data": {
      "image/png": "[encoded data removed]",
      "text/plain": [
       "<Figure size 640x480 with 1 Axes>"
      ]
     },
     "metadata": {},
     "output_type": "display_data"
    }
   ],
   "source": [
    "(rets.std() * math.sqrt(366)).plot(kind='bar')\n",
    "plt.show()"
   ]
  },
  {
   "cell_type": "markdown",
   "id": "e6574977",
   "metadata": {},
   "source": [
    "## Portfolio Statistics"
   ]
  },
  {
   "cell_type": "markdown",
   "id": "2647a98f",
   "metadata": {},
   "source": [
    "Assume a portfolio composed of **all financial instruments** with **equal weighting**."
   ]
  },
  {
   "cell_type": "code",
   "execution_count": 63,
   "id": "606921ab",
   "metadata": {},
   "outputs": [
    {
     "data": {
      "text/plain": [
       "[0.25, 0.25, 0.25, 0.25]"
      ]
     },
     "execution_count": 63,
     "metadata": {},
     "output_type": "execute_result"
    }
   ],
   "source": [
    "weights = len(rics) * [1 / len(rics)]\n",
    "weights"
   ]
  },
  {
   "cell_type": "markdown",
   "id": "81c694b1",
   "metadata": {},
   "source": [
    "The **expected portfolio return** according to MVP is the dot product of the expected returns and the weights."
   ]
  },
  {
   "cell_type": "code",
   "execution_count": 64,
   "id": "8241d5ce",
   "metadata": {},
   "outputs": [
    {
     "data": {
      "text/plain": [
       "-0.27379975000493517"
      ]
     },
     "execution_count": 64,
     "metadata": {},
     "output_type": "execute_result"
    }
   ],
   "source": [
    "np.dot(rets.mean() * 366, weights)"
   ]
  },
  {
   "cell_type": "code",
   "execution_count": 65,
   "id": "ddc2a4e8",
   "metadata": {},
   "outputs": [],
   "source": [
    "def portfolio_return(symbols, weights):\n",
    "    return np.dot(rets[symbols].mean() * 366, weights)"
   ]
  },
  {
   "cell_type": "code",
   "execution_count": 66,
   "id": "7d0e28ee",
   "metadata": {},
   "outputs": [
    {
     "data": {
      "text/plain": [
       "-0.27379975000493517"
      ]
     },
     "execution_count": 66,
     "metadata": {},
     "output_type": "execute_result"
    }
   ],
   "source": [
    "portfolio_return(rics, weights)"
   ]
  },
  {
   "cell_type": "markdown",
   "id": "cab46df7",
   "metadata": {},
   "source": [
    "`pandas` allows to derive the **covariance matrix** with a single method call. It plays a major role in the theory of Markowitz (1952) in that it accounts for **diversification** effects."
   ]
  },
  {
   "cell_type": "code",
   "execution_count": 67,
   "id": "2f1aba36",
   "metadata": {},
   "outputs": [
    {
     "data": {
      "text/html": [
       "<div>\n",
       "<style scoped>\n",
       "    .dataframe tbody tr th:only-of-type {\n",
       "        vertical-align: middle;\n",
       "    }\n",
       "\n",
       "    .dataframe tbody tr th {\n",
       "        vertical-align: top;\n",
       "    }\n",
       "\n",
       "    .dataframe thead th {\n",
       "        text-align: right;\n",
       "    }\n",
       "</style>\n",
       "<table border=\"1\" class=\"dataframe\">\n",
       "  <thead>\n",
       "    <tr style=\"text-align: right;\">\n",
       "      <th>Asset</th>\n",
       "      <th>HDFC</th>\n",
       "      <th>HINDUNILVR</th>\n",
       "      <th>INFY</th>\n",
       "      <th>TCS</th>\n",
       "    </tr>\n",
       "    <tr>\n",
       "      <th>Asset</th>\n",
       "      <th></th>\n",
       "      <th></th>\n",
       "      <th></th>\n",
       "      <th></th>\n",
       "    </tr>\n",
       "  </thead>\n",
       "  <tbody>\n",
       "    <tr>\n",
       "      <th>HDFC</th>\n",
       "      <td>2.515332e+06</td>\n",
       "      <td>2.108027e+06</td>\n",
       "      <td>35306.036296</td>\n",
       "      <td>37791.890384</td>\n",
       "    </tr>\n",
       "    <tr>\n",
       "      <th>HINDUNILVR</th>\n",
       "      <td>2.108027e+06</td>\n",
       "      <td>1.351196e+07</td>\n",
       "      <td>-37492.876079</td>\n",
       "      <td>-18430.308638</td>\n",
       "    </tr>\n",
       "    <tr>\n",
       "      <th>INFY</th>\n",
       "      <td>3.530604e+04</td>\n",
       "      <td>-3.749288e+04</td>\n",
       "      <td>2192.142136</td>\n",
       "      <td>755.094727</td>\n",
       "    </tr>\n",
       "    <tr>\n",
       "      <th>TCS</th>\n",
       "      <td>3.779189e+04</td>\n",
       "      <td>-1.843031e+04</td>\n",
       "      <td>755.094727</td>\n",
       "      <td>2887.639813</td>\n",
       "    </tr>\n",
       "  </tbody>\n",
       "</table>\n",
       "</div>"
      ],
      "text/plain": [
       "Asset               HDFC    HINDUNILVR          INFY           TCS\n",
       "Asset                                                             \n",
       "HDFC        2.515332e+06  2.108027e+06  35306.036296  37791.890384\n",
       "HINDUNILVR  2.108027e+06  1.351196e+07 -37492.876079 -18430.308638\n",
       "INFY        3.530604e+04 -3.749288e+04   2192.142136    755.094727\n",
       "TCS         3.779189e+04 -1.843031e+04    755.094727   2887.639813"
      ]
     },
     "execution_count": 67,
     "metadata": {},
     "output_type": "execute_result"
    }
   ],
   "source": [
    "data.cov() * 366  # annualized covariance matrix by column"
   ]
  },
  {
   "cell_type": "markdown",
   "id": "8a59df20",
   "metadata": {},
   "source": [
    "With the covariance matrix, **expected portfolio variance** is calculated as follows."
   ]
  },
  {
   "cell_type": "code",
   "execution_count": 68,
   "id": "9660ff63",
   "metadata": {},
   "outputs": [
    {
     "data": {
      "text/plain": [
       "1.1902399887823383"
      ]
     },
     "execution_count": 68,
     "metadata": {},
     "output_type": "execute_result"
    }
   ],
   "source": [
    "np.dot(weights, np.dot(rets.cov() * 366, weights))"
   ]
  },
  {
   "cell_type": "markdown",
   "id": "88f8b261",
   "metadata": {},
   "source": [
    "Accordingly, **expected portfolio volatility** is then given by:"
   ]
  },
  {
   "cell_type": "code",
   "execution_count": 69,
   "id": "0a46bae4",
   "metadata": {},
   "outputs": [
    {
     "data": {
      "text/plain": [
       "1.0909812045962746"
      ]
     },
     "execution_count": 69,
     "metadata": {},
     "output_type": "execute_result"
    }
   ],
   "source": [
    "math.sqrt(np.dot(weights, np.dot(rets.cov() * 366, weights)))"
   ]
  },
  {
   "cell_type": "code",
   "execution_count": 70,
   "id": "641a446d",
   "metadata": {},
   "outputs": [],
   "source": [
    "def portfolio_volatility(symbols, weights):\n",
    "    return math.sqrt(np.dot(weights, np.dot(rets[symbols].cov() * 366, weights)))"
   ]
  },
  {
   "cell_type": "code",
   "execution_count": 71,
   "id": "b7e22cac",
   "metadata": {},
   "outputs": [
    {
     "data": {
      "text/plain": [
       "1.0909812045962746"
      ]
     },
     "execution_count": 71,
     "metadata": {},
     "output_type": "execute_result"
    }
   ],
   "source": [
    "portfolio_volatility(rics, weights)"
   ]
  },
  {
   "cell_type": "markdown",
   "id": "fd4c8a0d",
   "metadata": {},
   "source": [
    "## Simulating Portfolio Compositions &mdash; Two Instruments"
   ]
  },
  {
   "cell_type": "markdown",
   "id": "6c8fe246",
   "metadata": {},
   "source": [
    "To get started, consider just two financial instruments for which **portfolio compositions** are simulated that add up to 100% (= 1)."
   ]
  },
  {
   "cell_type": "code",
   "execution_count": 72,
   "id": "f5763afb",
   "metadata": {},
   "outputs": [],
   "source": [
    "fis = ['INFY', 'TCS']"
   ]
  },
  {
   "cell_type": "code",
   "execution_count": 73,
   "id": "99cf9e57",
   "metadata": {},
   "outputs": [],
   "source": [
    "w = np.random.random((500, len(fis)))  # random portfolio compositions ..."
   ]
  },
  {
   "cell_type": "code",
   "execution_count": 74,
   "id": "d17aa086",
   "metadata": {},
   "outputs": [
    {
     "data": {
      "text/plain": [
       "array([[0.5 , 0.66],\n",
       "       [0.28, 0.95],\n",
       "       [0.05, 0.75],\n",
       "       [0.7 , 0.08]])"
      ]
     },
     "execution_count": 74,
     "metadata": {},
     "output_type": "execute_result"
    }
   ],
   "source": [
    "w[:4].round(2)  # ... that do not yet add up to 100%"
   ]
  },
  {
   "cell_type": "code",
   "execution_count": 75,
   "id": "5fde5a31",
   "metadata": {},
   "outputs": [],
   "source": [
    "w = (w.T / w.sum(axis=1)).T  # normalization ..."
   ]
  },
  {
   "cell_type": "code",
   "execution_count": 77,
   "id": "717d1e72",
   "metadata": {},
   "outputs": [
    {
     "data": {
      "text/plain": [
       "array([[0.43, 0.57],\n",
       "       [0.23, 0.77],\n",
       "       [0.07, 0.93],\n",
       "       [0.89, 0.11]])"
      ]
     },
     "execution_count": 77,
     "metadata": {},
     "output_type": "execute_result"
    }
   ],
   "source": [
    "w[:4].round(2)  # ... let's the random numbers add up to 100%"
   ]
  },
  {
   "cell_type": "code",
   "execution_count": 78,
   "id": "ff76b7d0",
   "metadata": {},
   "outputs": [
    {
     "data": {
      "text/plain": [
       "array([1., 1., 1., 1.])"
      ]
     },
     "execution_count": 78,
     "metadata": {},
     "output_type": "execute_result"
    }
   ],
   "source": [
    "w.sum(axis=1)[:4] # ... let's the random numbers add up to 100%"
   ]
  },
  {
   "cell_type": "markdown",
   "id": "685d28b0",
   "metadata": {},
   "source": [
    "Given these random composition, the resulting **portfolio statistics** can be derived."
   ]
  },
  {
   "cell_type": "code",
   "execution_count": 79,
   "id": "98824835",
   "metadata": {},
   "outputs": [],
   "source": [
    "mvp = [(portfolio_volatility(fis, weights),\n",
    "       portfolio_return(fis, weights))\n",
    "         for weights in w]"
   ]
  },
  {
   "cell_type": "code",
   "execution_count": 80,
   "id": "ab1ddedf",
   "metadata": {},
   "outputs": [
    {
     "data": {
      "text/html": [
       "<div>\n",
       "<style scoped>\n",
       "    .dataframe tbody tr th:only-of-type {\n",
       "        vertical-align: middle;\n",
       "    }\n",
       "\n",
       "    .dataframe tbody tr th {\n",
       "        vertical-align: top;\n",
       "    }\n",
       "\n",
       "    .dataframe thead th {\n",
       "        text-align: right;\n",
       "    }\n",
       "</style>\n",
       "<table border=\"1\" class=\"dataframe\">\n",
       "  <thead>\n",
       "    <tr style=\"text-align: right;\">\n",
       "      <th></th>\n",
       "      <th>volatility</th>\n",
       "      <th>return</th>\n",
       "    </tr>\n",
       "  </thead>\n",
       "  <tbody>\n",
       "    <tr>\n",
       "      <th>0</th>\n",
       "      <td>2.124044</td>\n",
       "      <td>-0.624744</td>\n",
       "    </tr>\n",
       "    <tr>\n",
       "      <th>1</th>\n",
       "      <td>2.513190</td>\n",
       "      <td>-0.834685</td>\n",
       "    </tr>\n",
       "    <tr>\n",
       "      <th>2</th>\n",
       "      <td>2.853967</td>\n",
       "      <td>-1.002030</td>\n",
       "    </tr>\n",
       "    <tr>\n",
       "      <th>3</th>\n",
       "      <td>1.558798</td>\n",
       "      <td>-0.141334</td>\n",
       "    </tr>\n",
       "  </tbody>\n",
       "</table>\n",
       "</div>"
      ],
      "text/plain": [
       "   volatility    return\n",
       "0    2.124044 -0.624744\n",
       "1    2.513190 -0.834685\n",
       "2    2.853967 -1.002030\n",
       "3    1.558798 -0.141334"
      ]
     },
     "execution_count": 80,
     "metadata": {},
     "output_type": "execute_result"
    }
   ],
   "source": [
    "mvp = pd.DataFrame(np.array(mvp), columns=['volatility', 'return'])\n",
    "mvp.iloc[:4]"
   ]
  },
  {
   "cell_type": "markdown",
   "id": "d40e2778",
   "metadata": {},
   "source": [
    "These results can then be **visualized**."
   ]
  },
  {
   "cell_type": "code",
   "execution_count": 81,
   "id": "3a5fcc8e",
   "metadata": {
    "scrolled": false
   },
   "outputs": [
    {
     "data": {
      "text/plain": [
       "<AxesSubplot:xlabel='volatility', ylabel='return'>"
      ]
     },
     "execution_count": 81,
     "metadata": {},
     "output_type": "execute_result"
    },
    {
     "data": {
      "image/png": "[encoded data removed]",
      "text/plain": [
       "<Figure size 640x480 with 1 Axes>"
      ]
     },
     "metadata": {},
     "output_type": "display_data"
    }
   ],
   "source": [
    "mvp.plot(x='volatility', y='return', kind='scatter')"
   ]
  },
  {
   "cell_type": "markdown",
   "id": "4f4729d4",
   "metadata": {},
   "source": [
    "## Simulating Portfolio Compositions &mdash; All Instruments"
   ]
  },
  {
   "cell_type": "markdown",
   "id": "0ef95e32",
   "metadata": {},
   "source": [
    "Second, consider portfolio compositions for **all financial instruments**. The code is basically the same."
   ]
  },
  {
   "cell_type": "code",
   "execution_count": 82,
   "id": "f74dfb87",
   "metadata": {},
   "outputs": [],
   "source": [
    "w = np.random.random((2500, len(rics)))  # random portfolio compositions ..."
   ]
  },
  {
   "cell_type": "code",
   "execution_count": 83,
   "id": "0457bda7",
   "metadata": {},
   "outputs": [
    {
     "data": {
      "text/plain": [
       "array([[0.56, 0.62, 0.39, 0.22],\n",
       "       [0.44, 0.72, 0.14, 0.96],\n",
       "       [0.05, 0.  , 0.05, 0.99],\n",
       "       [0.45, 0.22, 0.49, 0.01]])"
      ]
     },
     "execution_count": 83,
     "metadata": {},
     "output_type": "execute_result"
    }
   ],
   "source": [
    "w[:4].round(2)  # ... that do not yet add up to 100%"
   ]
  },
  {
   "cell_type": "code",
   "execution_count": 84,
   "id": "c77ea707",
   "metadata": {},
   "outputs": [],
   "source": [
    "w = (w.T / w.sum(axis=1)).T  # normalization ..."
   ]
  },
  {
   "cell_type": "code",
   "execution_count": 85,
   "id": "5d0354ff",
   "metadata": {},
   "outputs": [
    {
     "data": {
      "text/plain": [
       "array([[0.32, 0.35, 0.22, 0.12],\n",
       "       [0.19, 0.32, 0.06, 0.43],\n",
       "       [0.04, 0.  , 0.05, 0.91],\n",
       "       [0.38, 0.19, 0.42, 0.01]])"
      ]
     },
     "execution_count": 85,
     "metadata": {},
     "output_type": "execute_result"
    }
   ],
   "source": [
    "w[:4].round(2)  # ... let's the random numbers add up to 100%"
   ]
  },
  {
   "cell_type": "code",
   "execution_count": 86,
   "id": "75a9316b",
   "metadata": {},
   "outputs": [
    {
     "data": {
      "text/plain": [
       "array([1., 1., 1., 1.])"
      ]
     },
     "execution_count": 86,
     "metadata": {},
     "output_type": "execute_result"
    }
   ],
   "source": [
    "w.sum(axis=1)[:4] # ... let's the random numbers add up to 100%"
   ]
  },
  {
   "cell_type": "markdown",
   "id": "1f179b99",
   "metadata": {},
   "source": [
    "Given these random composition, the resulting **portfolio statistics** can be derived."
   ]
  },
  {
   "cell_type": "code",
   "execution_count": 87,
   "id": "544ff70a",
   "metadata": {},
   "outputs": [],
   "source": [
    "mvp = [(portfolio_volatility(rics, weights),\n",
    "       portfolio_return(rics, weights))\n",
    "         for weights in w]"
   ]
  },
  {
   "cell_type": "code",
   "execution_count": 88,
   "id": "c5d5665c",
   "metadata": {},
   "outputs": [
    {
     "data": {
      "text/html": [
       "<div>\n",
       "<style scoped>\n",
       "    .dataframe tbody tr th:only-of-type {\n",
       "        vertical-align: middle;\n",
       "    }\n",
       "\n",
       "    .dataframe tbody tr th {\n",
       "        vertical-align: top;\n",
       "    }\n",
       "\n",
       "    .dataframe thead th {\n",
       "        text-align: right;\n",
       "    }\n",
       "</style>\n",
       "<table border=\"1\" class=\"dataframe\">\n",
       "  <thead>\n",
       "    <tr style=\"text-align: right;\">\n",
       "      <th></th>\n",
       "      <th>volatility</th>\n",
       "      <th>return</th>\n",
       "    </tr>\n",
       "  </thead>\n",
       "  <tbody>\n",
       "    <tr>\n",
       "      <th>0</th>\n",
       "      <td>0.836394</td>\n",
       "      <td>-0.129504</td>\n",
       "    </tr>\n",
       "    <tr>\n",
       "      <th>1</th>\n",
       "      <td>1.355379</td>\n",
       "      <td>-0.440554</td>\n",
       "    </tr>\n",
       "    <tr>\n",
       "      <th>2</th>\n",
       "      <td>2.766803</td>\n",
       "      <td>-0.978541</td>\n",
       "    </tr>\n",
       "    <tr>\n",
       "      <th>3</th>\n",
       "      <td>0.900434</td>\n",
       "      <td>-0.048538</td>\n",
       "    </tr>\n",
       "  </tbody>\n",
       "</table>\n",
       "</div>"
      ],
      "text/plain": [
       "   volatility    return\n",
       "0    0.836394 -0.129504\n",
       "1    1.355379 -0.440554\n",
       "2    2.766803 -0.978541\n",
       "3    0.900434 -0.048538"
      ]
     },
     "execution_count": 88,
     "metadata": {},
     "output_type": "execute_result"
    }
   ],
   "source": [
    "mvp = pd.DataFrame(np.array(mvp), columns=['volatility', 'return'])\n",
    "mvp.iloc[:4]"
   ]
  },
  {
   "cell_type": "markdown",
   "id": "7b315bbc",
   "metadata": {},
   "source": [
    "These results can then be **visualized**."
   ]
  },
  {
   "cell_type": "code",
   "execution_count": 89,
   "id": "7476b0a1",
   "metadata": {},
   "outputs": [
    {
     "data": {
      "image/png": "[encoded data removed]",
      "text/plain": [
       "<Figure size 640x480 with 1 Axes>"
      ]
     },
     "metadata": {},
     "output_type": "display_data"
    }
   ],
   "source": [
    "mvp.plot(x='volatility', y='return', kind='scatter')\n",
    "plt.show()"
   ]
  },
  {
   "cell_type": "markdown",
   "id": "22f0d8b8",
   "metadata": {},
   "source": [
    "## Minimum Volatility Portfolio"
   ]
  },
  {
   "cell_type": "markdown",
   "id": "cf67f46f",
   "metadata": {},
   "source": [
    "Let us now derive the portfolio composition that **minimizes the expected volatility** of the portfolio. First, the **boundary conditions** for the single weights (between 0 and 1)."
   ]
  },
  {
   "cell_type": "code",
   "execution_count": 90,
   "id": "dfe27ae0",
   "metadata": {},
   "outputs": [],
   "source": [
    "bounds = len(rics) * [(0, 1)]"
   ]
  },
  {
   "cell_type": "code",
   "execution_count": 91,
   "id": "3f0885c1",
   "metadata": {},
   "outputs": [
    {
     "data": {
      "text/plain": [
       "[(0, 1), (0, 1), (0, 1), (0, 1)]"
      ]
     },
     "execution_count": 91,
     "metadata": {},
     "output_type": "execute_result"
    }
   ],
   "source": [
    "bounds"
   ]
  },
  {
   "cell_type": "markdown",
   "id": "e2c75655",
   "metadata": {},
   "source": [
    "Second, the condition that the **weights add up to 100%**."
   ]
  },
  {
   "cell_type": "code",
   "execution_count": 92,
   "id": "706a8457",
   "metadata": {},
   "outputs": [],
   "source": [
    "constraints = {'type': 'eq', 'fun': lambda weights: weights.sum() - 1} "
   ]
  },
  {
   "cell_type": "code",
   "execution_count": 93,
   "id": "e2f96426",
   "metadata": {},
   "outputs": [],
   "source": [
    "# help(sco.minimize)"
   ]
  },
  {
   "cell_type": "markdown",
   "id": "eb945866",
   "metadata": {},
   "source": [
    "Third, the **function to be minimized**. This is the function `portfolio_volatility()` from above."
   ]
  },
  {
   "cell_type": "markdown",
   "id": "17155962",
   "metadata": {},
   "source": [
    "These three elements are used in combination with the **general minimizer function `sco.minimize()`** to derive the minimum volatility portfolio."
   ]
  },
  {
   "cell_type": "code",
   "execution_count": 94,
   "id": "d6ed25ff",
   "metadata": {},
   "outputs": [],
   "source": [
    "res = sco.minimize(lambda x: portfolio_volatility(rics, x),  # function to be minized\n",
    "                   len(rics) * [1 / len(rics)],  # initial guess\n",
    "                   bounds=bounds,  # boundary conditions\n",
    "                   constraints=constraints  # single equality constraint\n",
    "                  )"
   ]
  },
  {
   "cell_type": "markdown",
   "id": "49ad1b35",
   "metadata": {},
   "source": [
    "The **results** are:"
   ]
  },
  {
   "cell_type": "code",
   "execution_count": 95,
   "id": "d3951390",
   "metadata": {},
   "outputs": [
    {
     "data": {
      "text/plain": [
       "     fun: 0.7593360351417539\n",
       "     jac: array([0.75898582, 0.7594582 , 0.76012468, 0.76085125])\n",
       " message: 'Optimization terminated successfully'\n",
       "    nfev: 35\n",
       "     nit: 7\n",
       "    njev: 7\n",
       "  status: 0\n",
       " success: True\n",
       "       x: array([0.51721364, 0.3493245 , 0.08774319, 0.04571866])"
      ]
     },
     "execution_count": 95,
     "metadata": {},
     "output_type": "execute_result"
    }
   ],
   "source": [
    "res"
   ]
  },
  {
   "cell_type": "code",
   "execution_count": 96,
   "id": "8e898992",
   "metadata": {},
   "outputs": [
    {
     "data": {
      "text/plain": [
       "0.7593360351417539"
      ]
     },
     "execution_count": 96,
     "metadata": {},
     "output_type": "execute_result"
    }
   ],
   "source": [
    "res['fun']  # minimum volatility"
   ]
  },
  {
   "cell_type": "code",
   "execution_count": 97,
   "id": "1675f541",
   "metadata": {},
   "outputs": [
    {
     "name": "stdout",
     "output_type": "stream",
     "text": [
      "   HDFC |   0.517\n",
      "HINDUNILVR |   0.349\n",
      "   INFY |   0.088\n",
      "    TCS |   0.046\n"
     ]
    }
   ],
   "source": [
    "for r in zip(rics, res['x']):\n",
    "    print('%7s | %7.3f' % (r[0], r[1])) # optimal portfolio composition"
   ]
  },
  {
   "cell_type": "code",
   "execution_count": null,
   "id": "08b3a670",
   "metadata": {},
   "outputs": [],
   "source": []
  }
 ],
 "metadata": {
  "kernelspec": {
   "display_name": "Python 3 (ipykernel)",
   "language": "python",
   "name": "python3"
  },
  "language_info": {
   "codemirror_mode": {
    "name": "ipython",
    "version": 3
   },
   "file_extension": ".py",
   "mimetype": "text/x-python",
   "name": "python",
   "nbconvert_exporter": "python",
   "pygments_lexer": "ipython3",
   "version": "3.9.12"
  }
 },
 "nbformat": 4,
 "nbformat_minor": 5
}
