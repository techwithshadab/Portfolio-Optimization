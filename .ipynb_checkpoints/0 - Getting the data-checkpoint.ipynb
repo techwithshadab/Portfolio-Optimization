{
 "cells": [
  {
   "cell_type": "markdown",
   "metadata": {},
   "source": [
    "# Get the data\n",
    "\n",
    "Depending on each case your data may look a little bit different but we should start our portfolio optimization by acquiring information on a set of STOCK to better understand their behaviour trough, in this case, one year of activity in the market."
   ]
  },
  {
   "cell_type": "code",
   "execution_count": 1,
   "metadata": {},
   "outputs": [
    {
     "data": {
      "text/html": [
       "<div>\n",
       "<style scoped>\n",
       "    .dataframe tbody tr th:only-of-type {\n",
       "        vertical-align: middle;\n",
       "    }\n",
       "\n",
       "    .dataframe tbody tr th {\n",
       "        vertical-align: top;\n",
       "    }\n",
       "\n",
       "    .dataframe thead th {\n",
       "        text-align: right;\n",
       "    }\n",
       "</style>\n",
       "<table border=\"1\" class=\"dataframe\">\n",
       "  <thead>\n",
       "    <tr style=\"text-align: right;\">\n",
       "      <th></th>\n",
       "      <th>Date</th>\n",
       "      <th>Open</th>\n",
       "      <th>High</th>\n",
       "      <th>Low</th>\n",
       "      <th>Close</th>\n",
       "      <th>Adj Close</th>\n",
       "      <th>Volume</th>\n",
       "      <th>Asset</th>\n",
       "    </tr>\n",
       "  </thead>\n",
       "  <tbody>\n",
       "    <tr>\n",
       "      <th>0</th>\n",
       "      <td>09-11-2017</td>\n",
       "      <td>913.500000</td>\n",
       "      <td>917.500000</td>\n",
       "      <td>910.549988</td>\n",
       "      <td>913.924988</td>\n",
       "      <td>886.325134</td>\n",
       "      <td>1556654</td>\n",
       "      <td>HDFC</td>\n",
       "    </tr>\n",
       "    <tr>\n",
       "      <th>1</th>\n",
       "      <td>10-11-2017</td>\n",
       "      <td>910.849976</td>\n",
       "      <td>917.400024</td>\n",
       "      <td>906.174988</td>\n",
       "      <td>911.000000</td>\n",
       "      <td>883.488525</td>\n",
       "      <td>3872180</td>\n",
       "      <td>HDFC</td>\n",
       "    </tr>\n",
       "    <tr>\n",
       "      <th>2</th>\n",
       "      <td>13-11-2017</td>\n",
       "      <td>911.000000</td>\n",
       "      <td>911.575012</td>\n",
       "      <td>897.500000</td>\n",
       "      <td>906.775024</td>\n",
       "      <td>879.391174</td>\n",
       "      <td>1667936</td>\n",
       "      <td>HDFC</td>\n",
       "    </tr>\n",
       "    <tr>\n",
       "      <th>3</th>\n",
       "      <td>14-11-2017</td>\n",
       "      <td>907.950012</td>\n",
       "      <td>909.500000</td>\n",
       "      <td>900.000000</td>\n",
       "      <td>901.174988</td>\n",
       "      <td>873.960144</td>\n",
       "      <td>2356234</td>\n",
       "      <td>HDFC</td>\n",
       "    </tr>\n",
       "    <tr>\n",
       "      <th>4</th>\n",
       "      <td>15-11-2017</td>\n",
       "      <td>899.000000</td>\n",
       "      <td>901.825012</td>\n",
       "      <td>894.000000</td>\n",
       "      <td>900.125000</td>\n",
       "      <td>872.941956</td>\n",
       "      <td>3074184</td>\n",
       "      <td>HDFC</td>\n",
       "    </tr>\n",
       "  </tbody>\n",
       "</table>\n",
       "</div>"
      ],
      "text/plain": [
       "         Date        Open        High         Low       Close   Adj Close  \\\n",
       "0  09-11-2017  913.500000  917.500000  910.549988  913.924988  886.325134   \n",
       "1  10-11-2017  910.849976  917.400024  906.174988  911.000000  883.488525   \n",
       "2  13-11-2017  911.000000  911.575012  897.500000  906.775024  879.391174   \n",
       "3  14-11-2017  907.950012  909.500000  900.000000  901.174988  873.960144   \n",
       "4  15-11-2017  899.000000  901.825012  894.000000  900.125000  872.941956   \n",
       "\n",
       "    Volume Asset  \n",
       "0  1556654  HDFC  \n",
       "1  3872180  HDFC  \n",
       "2  1667936  HDFC  \n",
       "3  2356234  HDFC  \n",
       "4  3074184  HDFC  "
      ]
     },
     "execution_count": 1,
     "metadata": {},
     "output_type": "execute_result"
    }
   ],
   "source": [
    "import pandas as pd\n",
    "\n",
    "hdfc_data = pd.read_csv(\"HDFCBANK.NS.csv\")\n",
    "hdfc_data[\"Asset\"] = \"HDFC\"\n",
    "hindunilvr_data = pd.read_csv(\"HINDUNILVR.NS.csv\")\n",
    "hindunilvr_data[\"Asset\"] = \"HINDUNILVR\"\n",
    "infy_data = pd.read_csv(\"INFY.csv\")\n",
    "infy_data[\"Asset\"] = \"INFY\"\n",
    "tcs_data = pd.read_csv(\"TCS.csv\")\n",
    "tcs_data[\"Asset\"] = \"TCS\"\n",
    "hdfc_date = set(hdfc_data.Date.unique())\n",
    "hindunilvr_date = set(hindunilvr_data.Date.unique())\n",
    "infy_date = set(infy_data.Date.unique())\n",
    "tcs_date = set(tcs_data.Date.unique())\n",
    "final_date = list(hdfc_date.intersection(hindunilvr_date).intersection(infy_date).intersection(tcs_date))\n",
    "hdfc_data = hdfc_data[hdfc_data['Date'].isin(final_date)]\n",
    "hindunilvr_data = hindunilvr_data[hindunilvr_data['Date'].isin(final_date)]\n",
    "infy_data = infy_data[infy_data['Date'].isin(final_date)]\n",
    "tcs_data = tcs_data[tcs_data['Date'].isin(final_date)]\n",
    "data = pd.concat([hdfc_data, hindunilvr_data, infy_data, tcs_data])\n",
    "data.to_csv(\"data.csv\")\n",
    "data.head()"
   ]
  },
  {
   "cell_type": "markdown",
   "metadata": {},
   "source": [
    "Following this we will calculate the average expected revenue for each asset. This is done by getting the difference between *opening* and *closing* time scaled to the opening price. This way we make sure each asset is independently evaluated.\n",
    "\n",
    "We will also compute the covariance between each asset so that we can consider this values as part of our portfolio diversification constraint."
   ]
  },
  {
   "cell_type": "code",
   "execution_count": 27,
   "metadata": {},
   "outputs": [],
   "source": [
    "from cmath import exp\n",
    "import numpy as np\n",
    "\n",
    "# Unique asset list\n",
    "asset_list = data[\"Asset\"].unique()\n",
    "\n",
    "exp_ret = {}\n",
    "return_list = []\n",
    "for asset in asset_list:\n",
    "    open_price = np.array(data[data[\"Asset\"] == asset][\"Open\"].astype(\"float\"))\n",
    "    close_price = np.array(data[data[\"Asset\"] == asset][\"Close\"].astype(\"float\"))\n",
    "        \n",
    "    # Sign will be used to indicate the value gradient direction\n",
    "    returns = ((close_price - open_price)/open_price)\n",
    "    exp_ret[asset] = returns.mean()\n",
    "    return_list.append(returns)\n",
    "\n",
    "# Expected return on each asset\n",
    "mu = [i for i in exp_ret.values()]   \n",
    "    \n",
    "# Compute covariance between returns\n",
    "sigma = np.cov(np.vstack(return_list))"
   ]
  },
  {
   "cell_type": "markdown",
   "metadata": {},
   "source": [
    "Here $\\mu$ is the value associated with the expected average return for each asset."
   ]
  },
  {
   "cell_type": "code",
   "execution_count": 28,
   "metadata": {},
   "outputs": [
    {
     "name": "stdout",
     "output_type": "stream",
     "text": [
      "Expected average return for asset HDFC is -0.00038200176428853267\n",
      "Expected average return for asset HINDUNILVR is -0.00051966241188483\n",
      "Expected average return for asset INFY is 0.0003600898303563155\n",
      "Expected average return for asset TCS is 0.0005673771973973779\n"
     ]
    }
   ],
   "source": [
    "for i,v in zip(asset_list, mu):\n",
    "    print(f\"Expected average return for asset {i} is {v}\")"
   ]
  },
  {
   "cell_type": "markdown",
   "metadata": {},
   "source": [
    "And $\\sigma$ is the covariance between those very same assets."
   ]
  },
  {
   "cell_type": "code",
   "execution_count": 29,
   "metadata": {},
   "outputs": [
    {
     "data": {
      "text/plain": [
       "array([[2.09712849e-04, 5.33309995e-05, 4.86466357e-06, 4.55537263e-05],\n",
       "       [5.33309995e-05, 2.04947886e-04, 2.09707848e-06, 1.98879955e-06],\n",
       "       [4.86466357e-06, 2.09707848e-06, 1.40799458e-04, 9.42808004e-05],\n",
       "       [4.55537263e-05, 1.98879955e-06, 9.42808004e-05, 1.67638832e-03]])"
      ]
     },
     "execution_count": 29,
     "metadata": {},
     "output_type": "execute_result"
    }
   ],
   "source": [
    "sigma"
   ]
  },
  {
   "cell_type": "markdown",
   "metadata": {},
   "source": [
    "It is important to know what the cost is of each asset so that we can also limit the budget we would like to spend in our investment."
   ]
  },
  {
   "cell_type": "code",
   "execution_count": 31,
   "metadata": {},
   "outputs": [],
   "source": [
    "filter = data.groupby(\"Asset\").agg({\"Date\":max}).reset_index()\n",
    "costs = data.merge(filter, how='inner').drop_duplicates()\n",
    "cost_list = costs[[\"Asset\",\"Open\"]].to_dict('records')"
   ]
  },
  {
   "cell_type": "markdown",
   "metadata": {},
   "source": [
    "We will store this information so that it can be used later."
   ]
  },
  {
   "cell_type": "code",
   "execution_count": 32,
   "metadata": {},
   "outputs": [],
   "source": [
    "import json\n",
    "\n",
    "# Serializing json  \n",
    "data = {\"mu\" : mu, \"sigma\": sigma.tolist(), \"assets\": cost_list} \n",
    "json_object = json.dumps(data, indent = 4)\n",
    "\n",
    "with open(\"data.json\", \"w\") as file:\n",
    "    file.write(json_object)"
   ]
  }
 ],
 "metadata": {
  "kernelspec": {
   "display_name": "Python 3 (ipykernel)",
   "language": "python",
   "name": "python3"
  },
  "language_info": {
   "codemirror_mode": {
    "name": "ipython",
    "version": 3
   },
   "file_extension": ".py",
   "mimetype": "text/x-python",
   "name": "python",
   "nbconvert_exporter": "python",
   "pygments_lexer": "ipython3",
   "version": "3.9.12"
  },
  "vscode": {
   "interpreter": {
    "hash": "103bead1b3505221cf3c93684cd5f873d89729dddf7b8625d3d8bb582bc8ea06"
   }
  }
 },
 "nbformat": 4,
 "nbformat_minor": 2
}
