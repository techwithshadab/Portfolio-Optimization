{
 "cells": [
  {
   "cell_type": "markdown",
   "id": "867dccb2",
   "metadata": {},
   "source": [
    "## Portfolio Selection"
   ]
  },
  {
   "cell_type": "markdown",
   "id": "a8c16ec3",
   "metadata": {},
   "source": [
    "Markowitz(1952): “Portfolio Selection”:\n",
    "\n",
    "> “Various reasons recommend the use of the expected return-variance of return rule, both as a hypothesis to explain well-established investment behavior and as a maxim to guide one's own action.”"
   ]
  },
  {
   "cell_type": "markdown",
   "id": "7df6181d",
   "metadata": {},
   "source": [
    "In what follows, the composition of a portfolio made up of different risky assets is analyzed in light of the **Mean-Variance Portfolio Theory (MVP)** of Markowitz (1952), i.e. with regard to the resulting **expected portfolio return** and **expected portfolio volatility** (instead of variance)."
   ]
  },
  {
   "cell_type": "markdown",
   "id": "ddef15a2",
   "metadata": {},
   "source": [
    "## Importing Required Packages"
   ]
  },
  {
   "cell_type": "code",
   "execution_count": 68,
   "id": "267ced84",
   "metadata": {},
   "outputs": [],
   "source": [
    "import math\n",
    "import numpy as np  # NumPy\n",
    "import pandas as pd  # pandas\n",
    "import scipy.optimize as sco  # optimization routines\n",
    "from datetime import datetime\n",
    "import matplotlib.pyplot as plt\n",
    "%matplotlib inline"
   ]
  },
  {
   "cell_type": "markdown",
   "id": "532d52e9",
   "metadata": {},
   "source": [
    "# Get the data\n",
    "\n",
    "Depending on each case your data may look a little bit different but we should start by obtaining asset data for our next steps. We will use Binance API to obtain information about a set of assets and derive our calculations from there."
   ]
  },
  {
   "cell_type": "code",
   "execution_count": 53,
   "id": "2f267c79",
   "metadata": {},
   "outputs": [
    {
     "data": {
      "text/html": [
       "<div>\n",
       "<style scoped>\n",
       "    .dataframe tbody tr th:only-of-type {\n",
       "        vertical-align: middle;\n",
       "    }\n",
       "\n",
       "    .dataframe tbody tr th {\n",
       "        vertical-align: top;\n",
       "    }\n",
       "\n",
       "    .dataframe thead th {\n",
       "        text-align: right;\n",
       "    }\n",
       "</style>\n",
       "<table border=\"1\" class=\"dataframe\">\n",
       "  <thead>\n",
       "    <tr style=\"text-align: right;\">\n",
       "      <th>Asset</th>\n",
       "      <th>BNBBTC</th>\n",
       "      <th>ETHBTC</th>\n",
       "      <th>LTCBTC</th>\n",
       "      <th>NEOBTC</th>\n",
       "      <th>QTUMETH</th>\n",
       "    </tr>\n",
       "    <tr>\n",
       "      <th>Date</th>\n",
       "      <th></th>\n",
       "      <th></th>\n",
       "      <th></th>\n",
       "      <th></th>\n",
       "      <th></th>\n",
       "    </tr>\n",
       "  </thead>\n",
       "  <tbody>\n",
       "    <tr>\n",
       "      <th>2021-10-21</th>\n",
       "      <td>0.007571</td>\n",
       "      <td>0.065148</td>\n",
       "      <td>0.003162</td>\n",
       "      <td>0.000723</td>\n",
       "      <td>0.003250</td>\n",
       "    </tr>\n",
       "    <tr>\n",
       "      <th>2021-10-22</th>\n",
       "      <td>0.007896</td>\n",
       "      <td>0.065446</td>\n",
       "      <td>0.003146</td>\n",
       "      <td>0.000733</td>\n",
       "      <td>0.003225</td>\n",
       "    </tr>\n",
       "    <tr>\n",
       "      <th>2021-10-23</th>\n",
       "      <td>0.007920</td>\n",
       "      <td>0.067997</td>\n",
       "      <td>0.003203</td>\n",
       "      <td>0.000730</td>\n",
       "      <td>0.003177</td>\n",
       "    </tr>\n",
       "    <tr>\n",
       "      <th>2021-10-24</th>\n",
       "      <td>0.007817</td>\n",
       "      <td>0.067079</td>\n",
       "      <td>0.003130</td>\n",
       "      <td>0.000720</td>\n",
       "      <td>0.003188</td>\n",
       "    </tr>\n",
       "    <tr>\n",
       "      <th>2021-10-25</th>\n",
       "      <td>0.007689</td>\n",
       "      <td>0.066897</td>\n",
       "      <td>0.003097</td>\n",
       "      <td>0.000706</td>\n",
       "      <td>0.003137</td>\n",
       "    </tr>\n",
       "  </tbody>\n",
       "</table>\n",
       "</div>"
      ],
      "text/plain": [
       "Asset         BNBBTC    ETHBTC    LTCBTC    NEOBTC   QTUMETH\n",
       "Date                                                        \n",
       "2021-10-21  0.007571  0.065148  0.003162  0.000723  0.003250\n",
       "2021-10-22  0.007896  0.065446  0.003146  0.000733  0.003225\n",
       "2021-10-23  0.007920  0.067997  0.003203  0.000730  0.003177\n",
       "2021-10-24  0.007817  0.067079  0.003130  0.000720  0.003188\n",
       "2021-10-25  0.007689  0.066897  0.003097  0.000706  0.003137"
      ]
     },
     "execution_count": 53,
     "metadata": {},
     "output_type": "execute_result"
    }
   ],
   "source": [
    "data = pd.read_csv(\"../../data/binance_data.csv\")\n",
    "data = data.drop(\"Unnamed: 0\", axis=1)\n",
    "data = data[[\"Open time\", \"Asset\", \"Close\"]]\n",
    "rics = list(data.Asset.unique())\n",
    "data.columns = [\"Date\", \"Asset\", \"Close\"]\n",
    "data[\"Date\"] = pd.to_datetime(data[\"Date\"], unit='ms')\n",
    "data = data.pivot(index=\"Date\", columns=\"Asset\", values=\"Close\")\n",
    "data.head()"
   ]
  },
  {
   "cell_type": "code",
   "execution_count": 25,
   "id": "5e4475bf",
   "metadata": {},
   "outputs": [],
   "source": [
    "data.dropna(inplace=True)"
   ]
  },
  {
   "cell_type": "code",
   "execution_count": 26,
   "id": "1c5e0c2d",
   "metadata": {},
   "outputs": [
    {
     "name": "stdout",
     "output_type": "stream",
     "text": [
      "<class 'pandas.core.frame.DataFrame'>\n",
      "DatetimeIndex: 366 entries, 2021-10-21 to 2022-10-21\n",
      "Data columns (total 5 columns):\n",
      " #   Column   Non-Null Count  Dtype  \n",
      "---  ------   --------------  -----  \n",
      " 0   BNBBTC   366 non-null    float64\n",
      " 1   ETHBTC   366 non-null    float64\n",
      " 2   LTCBTC   366 non-null    float64\n",
      " 3   NEOBTC   366 non-null    float64\n",
      " 4   QTUMETH  366 non-null    float64\n",
      "dtypes: float64(5)\n",
      "memory usage: 17.2 KB\n"
     ]
    }
   ],
   "source": [
    "data.info()  # DataFrame meta information"
   ]
  },
  {
   "cell_type": "markdown",
   "id": "1b7aced2",
   "metadata": {},
   "source": [
    "## Statistics for Single Instruments\n",
    "\n",
    "We calculate the **log returns** in vectorized fashion for all financial instruments and all days available."
   ]
  },
  {
   "cell_type": "code",
   "execution_count": 30,
   "id": "04017ae4",
   "metadata": {},
   "outputs": [],
   "source": [
    "rets = np.log(data / data.shift(1))  # log returns in vectorized fashion"
   ]
  },
  {
   "cell_type": "code",
   "execution_count": 31,
   "id": "48cd78a7",
   "metadata": {},
   "outputs": [
    {
     "data": {
      "text/html": [
       "<div>\n",
       "<style scoped>\n",
       "    .dataframe tbody tr th:only-of-type {\n",
       "        vertical-align: middle;\n",
       "    }\n",
       "\n",
       "    .dataframe tbody tr th {\n",
       "        vertical-align: top;\n",
       "    }\n",
       "\n",
       "    .dataframe thead th {\n",
       "        text-align: right;\n",
       "    }\n",
       "</style>\n",
       "<table border=\"1\" class=\"dataframe\">\n",
       "  <thead>\n",
       "    <tr style=\"text-align: right;\">\n",
       "      <th>Asset</th>\n",
       "      <th>BNBBTC</th>\n",
       "      <th>ETHBTC</th>\n",
       "      <th>LTCBTC</th>\n",
       "      <th>NEOBTC</th>\n",
       "      <th>QTUMETH</th>\n",
       "    </tr>\n",
       "    <tr>\n",
       "      <th>Date</th>\n",
       "      <th></th>\n",
       "      <th></th>\n",
       "      <th></th>\n",
       "      <th></th>\n",
       "      <th></th>\n",
       "    </tr>\n",
       "  </thead>\n",
       "  <tbody>\n",
       "    <tr>\n",
       "      <th>2021-10-21</th>\n",
       "      <td>NaN</td>\n",
       "      <td>NaN</td>\n",
       "      <td>NaN</td>\n",
       "      <td>NaN</td>\n",
       "      <td>NaN</td>\n",
       "    </tr>\n",
       "    <tr>\n",
       "      <th>2021-10-22</th>\n",
       "      <td>0.042031</td>\n",
       "      <td>0.004564</td>\n",
       "      <td>-0.005073</td>\n",
       "      <td>0.013736</td>\n",
       "      <td>-0.007722</td>\n",
       "    </tr>\n",
       "    <tr>\n",
       "      <th>2021-10-23</th>\n",
       "      <td>0.003035</td>\n",
       "      <td>0.038238</td>\n",
       "      <td>0.017956</td>\n",
       "      <td>-0.004101</td>\n",
       "      <td>-0.014996</td>\n",
       "    </tr>\n",
       "    <tr>\n",
       "      <th>2021-10-24</th>\n",
       "      <td>-0.013090</td>\n",
       "      <td>-0.013593</td>\n",
       "      <td>-0.023055</td>\n",
       "      <td>-0.013793</td>\n",
       "      <td>0.003456</td>\n",
       "    </tr>\n",
       "    <tr>\n",
       "      <th>2021-10-25</th>\n",
       "      <td>-0.016510</td>\n",
       "      <td>-0.002717</td>\n",
       "      <td>-0.010599</td>\n",
       "      <td>-0.019636</td>\n",
       "      <td>-0.016127</td>\n",
       "    </tr>\n",
       "  </tbody>\n",
       "</table>\n",
       "</div>"
      ],
      "text/plain": [
       "Asset         BNBBTC    ETHBTC    LTCBTC    NEOBTC   QTUMETH\n",
       "Date                                                        \n",
       "2021-10-21       NaN       NaN       NaN       NaN       NaN\n",
       "2021-10-22  0.042031  0.004564 -0.005073  0.013736 -0.007722\n",
       "2021-10-23  0.003035  0.038238  0.017956 -0.004101 -0.014996\n",
       "2021-10-24 -0.013090 -0.013593 -0.023055 -0.013793  0.003456\n",
       "2021-10-25 -0.016510 -0.002717 -0.010599 -0.019636 -0.016127"
      ]
     },
     "execution_count": 31,
     "metadata": {},
     "output_type": "execute_result"
    }
   ],
   "source": [
    "rets.head()"
   ]
  },
  {
   "cell_type": "code",
   "execution_count": 37,
   "id": "d1460f7a",
   "metadata": {},
   "outputs": [
    {
     "data": {
      "image/png": "[encoded data removed]",
      "text/plain": [
       "<Figure size 640x480 with 5 Axes>"
      ]
     },
     "metadata": {},
     "output_type": "display_data"
    }
   ],
   "source": [
    "plt.subplot(3,2,1)\n",
    "plt.hist(rets['BNBBTC'], bins = 10)\n",
    "plt.title('A Histogram of BNBBTC')\n",
    "plt.subplot(3,2,2)\n",
    "plt.hist(rets['ETHBTC'], bins = 10)\n",
    "plt.title('A Histogram of ETHBTC')\n",
    "plt.subplot(3,2,3)\n",
    "plt.hist(rets['LTCBTC'], bins = 10)\n",
    "plt.title('A Histogram of LTCBTC')\n",
    "plt.subplot(3,2,4)\n",
    "plt.hist(rets['NEOBTC'], bins = 10)\n",
    "plt.title('A Histogram of NEOBTC')\n",
    "plt.subplot(3,2,5)\n",
    "plt.hist(rets['QTUMETH'], bins = 10)\n",
    "plt.title('A Histogram of QTUMETH')\n",
    "plt.tight_layout()"
   ]
  },
  {
   "cell_type": "markdown",
   "id": "45a6c762",
   "metadata": {},
   "source": [
    "In MVP, the **average returns** of the financial instruments play an important role since they are used to approximate the **expected returns**."
   ]
  },
  {
   "cell_type": "code",
   "execution_count": 38,
   "id": "a71693f2",
   "metadata": {},
   "outputs": [
    {
     "data": {
      "text/plain": [
       "Asset\n",
       "BNBBTC     0.001702\n",
       "ETHBTC     0.000111\n",
       "LTCBTC    -0.000438\n",
       "NEOBTC    -0.001554\n",
       "QTUMETH   -0.001302\n",
       "dtype: float64"
      ]
     },
     "execution_count": 38,
     "metadata": {},
     "output_type": "execute_result"
    }
   ],
   "source": [
    "rets.mean()  # daily mean returns"
   ]
  },
  {
   "cell_type": "code",
   "execution_count": 40,
   "id": "24a9707b",
   "metadata": {},
   "outputs": [
    {
     "data": {
      "text/plain": [
       "Asset\n",
       "BNBBTC     0.622984\n",
       "ETHBTC     0.040453\n",
       "LTCBTC    -0.160244\n",
       "NEOBTC    -0.568806\n",
       "QTUMETH   -0.476364\n",
       "dtype: float64"
      ]
     },
     "execution_count": 40,
     "metadata": {},
     "output_type": "execute_result"
    }
   ],
   "source": [
    "rets.mean() * 366  # annualied mean returns"
   ]
  },
  {
   "cell_type": "code",
   "execution_count": 49,
   "id": "ac53c9e5",
   "metadata": {
    "scrolled": false
   },
   "outputs": [
    {
     "data": {
      "image/png": "[encoded data removed]",
      "text/plain": [
       "<Figure size 640x480 with 1 Axes>"
      ]
     },
     "metadata": {},
     "output_type": "display_data"
    }
   ],
   "source": [
    "(rets.mean() * 366).plot(kind=\"bar\")\n",
    "plt.show()"
   ]
  },
  {
   "cell_type": "markdown",
   "id": "0b6d4a9d",
   "metadata": {},
   "source": [
    "On the other hand, the historical volatility (standard deviation of returns) plays an important role, although it is not used"
   ]
  },
  {
   "cell_type": "code",
   "execution_count": 44,
   "id": "e9537121",
   "metadata": {},
   "outputs": [
    {
     "data": {
      "text/plain": [
       "Asset\n",
       "BNBBTC     0.022337\n",
       "ETHBTC     0.021900\n",
       "LTCBTC     0.027267\n",
       "NEOBTC     0.031551\n",
       "QTUMETH    0.032497\n",
       "dtype: float64"
      ]
     },
     "execution_count": 44,
     "metadata": {},
     "output_type": "execute_result"
    }
   ],
   "source": [
    "rets.std()  # daily volatilities"
   ]
  },
  {
   "cell_type": "code",
   "execution_count": 47,
   "id": "64318d79",
   "metadata": {},
   "outputs": [
    {
     "data": {
      "text/plain": [
       "Asset\n",
       "BNBBTC     0.427327\n",
       "ETHBTC     0.418980\n",
       "LTCBTC     0.521653\n",
       "NEOBTC     0.603601\n",
       "QTUMETH    0.621713\n",
       "dtype: float64"
      ]
     },
     "execution_count": 47,
     "metadata": {},
     "output_type": "execute_result"
    }
   ],
   "source": [
    "rets.std() * math.sqrt(366)  # annualized volatilities"
   ]
  },
  {
   "cell_type": "code",
   "execution_count": 101,
   "id": "0bdb22ec",
   "metadata": {},
   "outputs": [
    {
     "data": {
      "image/png": "[encoded data removed]",
      "text/plain": [
       "<Figure size 640x480 with 1 Axes>"
      ]
     },
     "metadata": {},
     "output_type": "display_data"
    }
   ],
   "source": [
    "(rets.std() * math.sqrt(366)).plot(kind='bar')\n",
    "plt.show()"
   ]
  },
  {
   "cell_type": "markdown",
   "id": "e6574977",
   "metadata": {},
   "source": [
    "## Portfolio Statistics"
   ]
  },
  {
   "cell_type": "markdown",
   "id": "2647a98f",
   "metadata": {},
   "source": [
    "Assume a portfolio composed of **all financial instruments** with **equal weighting**."
   ]
  },
  {
   "cell_type": "code",
   "execution_count": 55,
   "id": "606921ab",
   "metadata": {},
   "outputs": [
    {
     "data": {
      "text/plain": [
       "[0.2, 0.2, 0.2, 0.2, 0.2]"
      ]
     },
     "execution_count": 55,
     "metadata": {},
     "output_type": "execute_result"
    }
   ],
   "source": [
    "weights = len(rics) * [1 / len(rics)]\n",
    "weights"
   ]
  },
  {
   "cell_type": "markdown",
   "id": "81c694b1",
   "metadata": {},
   "source": [
    "The **expected portfolio return** according to MVP is the dot product of the expected returns and the weights."
   ]
  },
  {
   "cell_type": "code",
   "execution_count": 56,
   "id": "8241d5ce",
   "metadata": {},
   "outputs": [
    {
     "data": {
      "text/plain": [
       "-0.10839537887785164"
      ]
     },
     "execution_count": 56,
     "metadata": {},
     "output_type": "execute_result"
    }
   ],
   "source": [
    "np.dot(rets.mean() * 366, weights)"
   ]
  },
  {
   "cell_type": "code",
   "execution_count": 59,
   "id": "ddc2a4e8",
   "metadata": {},
   "outputs": [],
   "source": [
    "def portfolio_return(symbols, weights):\n",
    "    return np.dot(rets[symbols].mean() * 366, weights)"
   ]
  },
  {
   "cell_type": "code",
   "execution_count": 60,
   "id": "7d0e28ee",
   "metadata": {},
   "outputs": [
    {
     "data": {
      "text/plain": [
       "-0.10839537887785164"
      ]
     },
     "execution_count": 60,
     "metadata": {},
     "output_type": "execute_result"
    }
   ],
   "source": [
    "portfolio_return(rics, weights)"
   ]
  },
  {
   "cell_type": "markdown",
   "id": "cab46df7",
   "metadata": {},
   "source": [
    "`pandas` allows to derive the **covariance matrix** with a single method call. It plays a major role in the theory of Markowitz (1952) in that it accounts for **diversification** effects."
   ]
  },
  {
   "cell_type": "code",
   "execution_count": 61,
   "id": "2f1aba36",
   "metadata": {},
   "outputs": [
    {
     "data": {
      "text/html": [
       "<div>\n",
       "<style scoped>\n",
       "    .dataframe tbody tr th:only-of-type {\n",
       "        vertical-align: middle;\n",
       "    }\n",
       "\n",
       "    .dataframe tbody tr th {\n",
       "        vertical-align: top;\n",
       "    }\n",
       "\n",
       "    .dataframe thead th {\n",
       "        text-align: right;\n",
       "    }\n",
       "</style>\n",
       "<table border=\"1\" class=\"dataframe\">\n",
       "  <thead>\n",
       "    <tr style=\"text-align: right;\">\n",
       "      <th>Asset</th>\n",
       "      <th>BNBBTC</th>\n",
       "      <th>ETHBTC</th>\n",
       "      <th>LTCBTC</th>\n",
       "      <th>NEOBTC</th>\n",
       "      <th>QTUMETH</th>\n",
       "    </tr>\n",
       "    <tr>\n",
       "      <th>Asset</th>\n",
       "      <th></th>\n",
       "      <th></th>\n",
       "      <th></th>\n",
       "      <th></th>\n",
       "      <th></th>\n",
       "    </tr>\n",
       "  </thead>\n",
       "  <tbody>\n",
       "    <tr>\n",
       "      <th>BNBBTC</th>\n",
       "      <td>0.001090</td>\n",
       "      <td>0.000938</td>\n",
       "      <td>-0.000027</td>\n",
       "      <td>-0.000027</td>\n",
       "      <td>-0.000104</td>\n",
       "    </tr>\n",
       "    <tr>\n",
       "      <th>ETHBTC</th>\n",
       "      <td>0.000938</td>\n",
       "      <td>0.020163</td>\n",
       "      <td>0.000572</td>\n",
       "      <td>0.000105</td>\n",
       "      <td>0.000024</td>\n",
       "    </tr>\n",
       "    <tr>\n",
       "      <th>LTCBTC</th>\n",
       "      <td>-0.000027</td>\n",
       "      <td>0.000572</td>\n",
       "      <td>0.000059</td>\n",
       "      <td>0.000012</td>\n",
       "      <td>0.000044</td>\n",
       "    </tr>\n",
       "    <tr>\n",
       "      <th>NEOBTC</th>\n",
       "      <td>-0.000027</td>\n",
       "      <td>0.000105</td>\n",
       "      <td>0.000012</td>\n",
       "      <td>0.000003</td>\n",
       "      <td>0.000013</td>\n",
       "    </tr>\n",
       "    <tr>\n",
       "      <th>QTUMETH</th>\n",
       "      <td>-0.000104</td>\n",
       "      <td>0.000024</td>\n",
       "      <td>0.000044</td>\n",
       "      <td>0.000013</td>\n",
       "      <td>0.000068</td>\n",
       "    </tr>\n",
       "  </tbody>\n",
       "</table>\n",
       "</div>"
      ],
      "text/plain": [
       "Asset      BNBBTC    ETHBTC    LTCBTC    NEOBTC   QTUMETH\n",
       "Asset                                                    \n",
       "BNBBTC   0.001090  0.000938 -0.000027 -0.000027 -0.000104\n",
       "ETHBTC   0.000938  0.020163  0.000572  0.000105  0.000024\n",
       "LTCBTC  -0.000027  0.000572  0.000059  0.000012  0.000044\n",
       "NEOBTC  -0.000027  0.000105  0.000012  0.000003  0.000013\n",
       "QTUMETH -0.000104  0.000024  0.000044  0.000013  0.000068"
      ]
     },
     "execution_count": 61,
     "metadata": {},
     "output_type": "execute_result"
    }
   ],
   "source": [
    "data.cov() * 366  # annualized covariance matrix by column"
   ]
  },
  {
   "cell_type": "markdown",
   "id": "8a59df20",
   "metadata": {},
   "source": [
    "With the covariance matrix, **expected portfolio variance** is calculated as follows."
   ]
  },
  {
   "cell_type": "code",
   "execution_count": 62,
   "id": "9660ff63",
   "metadata": {},
   "outputs": [
    {
     "data": {
      "text/plain": [
       "0.11656108091650114"
      ]
     },
     "execution_count": 62,
     "metadata": {},
     "output_type": "execute_result"
    }
   ],
   "source": [
    "np.dot(weights, np.dot(rets.cov() * 366, weights))"
   ]
  },
  {
   "cell_type": "markdown",
   "id": "88f8b261",
   "metadata": {},
   "source": [
    "Accordingly, **expected portfolio volatility** is then given by:"
   ]
  },
  {
   "cell_type": "code",
   "execution_count": 63,
   "id": "0a46bae4",
   "metadata": {},
   "outputs": [
    {
     "data": {
      "text/plain": [
       "0.3414104288338321"
      ]
     },
     "execution_count": 63,
     "metadata": {},
     "output_type": "execute_result"
    }
   ],
   "source": [
    "math.sqrt(np.dot(weights, np.dot(rets.cov() * 366, weights)))"
   ]
  },
  {
   "cell_type": "code",
   "execution_count": 64,
   "id": "641a446d",
   "metadata": {},
   "outputs": [],
   "source": [
    "def portfolio_volatility(symbols, weights):\n",
    "    return math.sqrt(np.dot(weights, np.dot(rets[symbols].cov() * 366, weights)))"
   ]
  },
  {
   "cell_type": "code",
   "execution_count": 65,
   "id": "b7e22cac",
   "metadata": {},
   "outputs": [
    {
     "data": {
      "text/plain": [
       "0.3414104288338321"
      ]
     },
     "execution_count": 65,
     "metadata": {},
     "output_type": "execute_result"
    }
   ],
   "source": [
    "portfolio_volatility(rics, weights)"
   ]
  },
  {
   "cell_type": "markdown",
   "id": "fd4c8a0d",
   "metadata": {},
   "source": [
    "## Simulating Portfolio Compositions &mdash; Two Instruments"
   ]
  },
  {
   "cell_type": "markdown",
   "id": "6c8fe246",
   "metadata": {},
   "source": [
    "To get started, consider just two financial instruments for which **portfolio compositions** are simulated that add up to 100% (= 1)."
   ]
  },
  {
   "cell_type": "code",
   "execution_count": 70,
   "id": "f5763afb",
   "metadata": {},
   "outputs": [],
   "source": [
    "fis = ['BNBBTC', 'ETHBTC']"
   ]
  },
  {
   "cell_type": "code",
   "execution_count": 71,
   "id": "99cf9e57",
   "metadata": {},
   "outputs": [],
   "source": [
    "w = np.random.random((500, len(fis)))  # random portfolio compositions ..."
   ]
  },
  {
   "cell_type": "code",
   "execution_count": 72,
   "id": "d17aa086",
   "metadata": {},
   "outputs": [
    {
     "data": {
      "text/plain": [
       "array([[0.76, 0.3 ],\n",
       "       [0.09, 0.83],\n",
       "       [0.86, 0.98],\n",
       "       [0.73, 0.81],\n",
       "       [0.85, 0.91]])"
      ]
     },
     "execution_count": 72,
     "metadata": {},
     "output_type": "execute_result"
    }
   ],
   "source": [
    "w[:5].round(2)  # ... that do not yet add up to 100%"
   ]
  },
  {
   "cell_type": "code",
   "execution_count": 73,
   "id": "5fde5a31",
   "metadata": {},
   "outputs": [],
   "source": [
    "w = (w.T / w.sum(axis=1)).T  # normalization ..."
   ]
  },
  {
   "cell_type": "code",
   "execution_count": 74,
   "id": "717d1e72",
   "metadata": {},
   "outputs": [
    {
     "data": {
      "text/plain": [
       "array([[0.72, 0.28],\n",
       "       [0.1 , 0.9 ],\n",
       "       [0.47, 0.53],\n",
       "       [0.47, 0.53],\n",
       "       [0.49, 0.51]])"
      ]
     },
     "execution_count": 74,
     "metadata": {},
     "output_type": "execute_result"
    }
   ],
   "source": [
    "w[:5].round(2)  # ... let's the random numbers add up to 100%"
   ]
  },
  {
   "cell_type": "code",
   "execution_count": 75,
   "id": "ff76b7d0",
   "metadata": {},
   "outputs": [
    {
     "data": {
      "text/plain": [
       "array([1., 1., 1., 1., 1.])"
      ]
     },
     "execution_count": 75,
     "metadata": {},
     "output_type": "execute_result"
    }
   ],
   "source": [
    "w.sum(axis=1)[:5] # ... let's the random numbers add up to 100%"
   ]
  },
  {
   "cell_type": "markdown",
   "id": "685d28b0",
   "metadata": {},
   "source": [
    "Given these random composition, the resulting **portfolio statistics** can be derived."
   ]
  },
  {
   "cell_type": "code",
   "execution_count": 76,
   "id": "98824835",
   "metadata": {},
   "outputs": [],
   "source": [
    "mvp = [(portfolio_volatility(fis, weights),\n",
    "       portfolio_return(fis, weights))\n",
    "         for weights in w]"
   ]
  },
  {
   "cell_type": "code",
   "execution_count": 77,
   "id": "ab1ddedf",
   "metadata": {},
   "outputs": [
    {
     "data": {
      "text/html": [
       "<div>\n",
       "<style scoped>\n",
       "    .dataframe tbody tr th:only-of-type {\n",
       "        vertical-align: middle;\n",
       "    }\n",
       "\n",
       "    .dataframe tbody tr th {\n",
       "        vertical-align: top;\n",
       "    }\n",
       "\n",
       "    .dataframe thead th {\n",
       "        text-align: right;\n",
       "    }\n",
       "</style>\n",
       "<table border=\"1\" class=\"dataframe\">\n",
       "  <thead>\n",
       "    <tr style=\"text-align: right;\">\n",
       "      <th></th>\n",
       "      <th>volatility</th>\n",
       "      <th>return</th>\n",
       "    </tr>\n",
       "  </thead>\n",
       "  <tbody>\n",
       "    <tr>\n",
       "      <th>0</th>\n",
       "      <td>0.370592</td>\n",
       "      <td>0.459859</td>\n",
       "    </tr>\n",
       "    <tr>\n",
       "      <th>1</th>\n",
       "      <td>0.396313</td>\n",
       "      <td>0.098215</td>\n",
       "    </tr>\n",
       "    <tr>\n",
       "      <th>2</th>\n",
       "      <td>0.354101</td>\n",
       "      <td>0.313107</td>\n",
       "    </tr>\n",
       "    <tr>\n",
       "      <th>3</th>\n",
       "      <td>0.354055</td>\n",
       "      <td>0.316650</td>\n",
       "    </tr>\n",
       "    <tr>\n",
       "      <th>4</th>\n",
       "      <td>0.354029</td>\n",
       "      <td>0.322992</td>\n",
       "    </tr>\n",
       "  </tbody>\n",
       "</table>\n",
       "</div>"
      ],
      "text/plain": [
       "   volatility    return\n",
       "0    0.370592  0.459859\n",
       "1    0.396313  0.098215\n",
       "2    0.354101  0.313107\n",
       "3    0.354055  0.316650\n",
       "4    0.354029  0.322992"
      ]
     },
     "execution_count": 77,
     "metadata": {},
     "output_type": "execute_result"
    }
   ],
   "source": [
    "mvp = pd.DataFrame(np.array(mvp), columns=['volatility', 'return'])\n",
    "mvp.iloc[:5]"
   ]
  },
  {
   "cell_type": "markdown",
   "id": "d40e2778",
   "metadata": {},
   "source": [
    "These results can then be **visualized**."
   ]
  },
  {
   "cell_type": "code",
   "execution_count": 81,
   "id": "3a5fcc8e",
   "metadata": {
    "scrolled": false
   },
   "outputs": [
    {
     "data": {
      "text/plain": [
       "<AxesSubplot:xlabel='volatility', ylabel='return'>"
      ]
     },
     "execution_count": 81,
     "metadata": {},
     "output_type": "execute_result"
    },
    {
     "data": {
      "image/png": "[encoded data removed]",
      "text/plain": [
       "<Figure size 640x480 with 1 Axes>"
      ]
     },
     "metadata": {},
     "output_type": "display_data"
    }
   ],
   "source": [
    "mvp.plot(x='volatility', y='return', kind='scatter')"
   ]
  },
  {
   "cell_type": "markdown",
   "id": "4f4729d4",
   "metadata": {},
   "source": [
    "## Simulating Portfolio Compositions &mdash; All Instruments"
   ]
  },
  {
   "cell_type": "markdown",
   "id": "0ef95e32",
   "metadata": {},
   "source": [
    "Second, consider portfolio compositions for **all financial instruments**. The code is basically the same."
   ]
  },
  {
   "cell_type": "code",
   "execution_count": 82,
   "id": "f74dfb87",
   "metadata": {},
   "outputs": [],
   "source": [
    "w = np.random.random((2500, len(rics)))  # random portfolio compositions ..."
   ]
  },
  {
   "cell_type": "code",
   "execution_count": 83,
   "id": "0457bda7",
   "metadata": {},
   "outputs": [
    {
     "data": {
      "text/plain": [
       "array([[0.96, 0.55, 0.44, 0.34, 0.1 ],\n",
       "       [0.56, 0.39, 0.3 , 0.51, 0.69],\n",
       "       [0.8 , 0.57, 0.89, 0.82, 0.42],\n",
       "       [0.45, 0.26, 0.64, 0.35, 0.94],\n",
       "       [0.82, 0.02, 0.26, 0.58, 0.67]])"
      ]
     },
     "execution_count": 83,
     "metadata": {},
     "output_type": "execute_result"
    }
   ],
   "source": [
    "w[:5].round(2)  # ... that do not yet add up to 100%"
   ]
  },
  {
   "cell_type": "code",
   "execution_count": 84,
   "id": "c77ea707",
   "metadata": {},
   "outputs": [],
   "source": [
    "w = (w.T / w.sum(axis=1)).T  # normalization ..."
   ]
  },
  {
   "cell_type": "code",
   "execution_count": 85,
   "id": "5d0354ff",
   "metadata": {},
   "outputs": [
    {
     "data": {
      "text/plain": [
       "array([[0.4 , 0.23, 0.18, 0.14, 0.04],\n",
       "       [0.23, 0.16, 0.12, 0.21, 0.28],\n",
       "       [0.23, 0.16, 0.25, 0.23, 0.12],\n",
       "       [0.17, 0.1 , 0.24, 0.13, 0.36],\n",
       "       [0.35, 0.01, 0.11, 0.24, 0.29]])"
      ]
     },
     "execution_count": 85,
     "metadata": {},
     "output_type": "execute_result"
    }
   ],
   "source": [
    "w[:5].round(2)  # ... let's the random numbers add up to 100%"
   ]
  },
  {
   "cell_type": "code",
   "execution_count": 86,
   "id": "75a9316b",
   "metadata": {},
   "outputs": [
    {
     "data": {
      "text/plain": [
       "array([1., 1., 1., 1., 1.])"
      ]
     },
     "execution_count": 86,
     "metadata": {},
     "output_type": "execute_result"
    }
   ],
   "source": [
    "w.sum(axis=1)[:5] # ... let's the random numbers add up to 100%"
   ]
  },
  {
   "cell_type": "markdown",
   "id": "1f179b99",
   "metadata": {},
   "source": [
    "Given these random composition, the resulting **portfolio statistics** can be derived."
   ]
  },
  {
   "cell_type": "code",
   "execution_count": 87,
   "id": "544ff70a",
   "metadata": {},
   "outputs": [],
   "source": [
    "mvp = [(portfolio_volatility(rics, weights),\n",
    "       portfolio_return(rics, weights))\n",
    "         for weights in w]"
   ]
  },
  {
   "cell_type": "code",
   "execution_count": 88,
   "id": "c5d5665c",
   "metadata": {},
   "outputs": [
    {
     "data": {
      "text/html": [
       "<div>\n",
       "<style scoped>\n",
       "    .dataframe tbody tr th:only-of-type {\n",
       "        vertical-align: middle;\n",
       "    }\n",
       "\n",
       "    .dataframe tbody tr th {\n",
       "        vertical-align: top;\n",
       "    }\n",
       "\n",
       "    .dataframe thead th {\n",
       "        text-align: right;\n",
       "    }\n",
       "</style>\n",
       "<table border=\"1\" class=\"dataframe\">\n",
       "  <thead>\n",
       "    <tr style=\"text-align: right;\">\n",
       "      <th></th>\n",
       "      <th>volatility</th>\n",
       "      <th>return</th>\n",
       "    </tr>\n",
       "  </thead>\n",
       "  <tbody>\n",
       "    <tr>\n",
       "      <th>0</th>\n",
       "      <td>0.338874</td>\n",
       "      <td>-0.006315</td>\n",
       "    </tr>\n",
       "    <tr>\n",
       "      <th>1</th>\n",
       "      <td>0.347718</td>\n",
       "      <td>-0.193513</td>\n",
       "    </tr>\n",
       "    <tr>\n",
       "      <th>2</th>\n",
       "      <td>0.341086</td>\n",
       "      <td>-0.049294</td>\n",
       "    </tr>\n",
       "    <tr>\n",
       "      <th>3</th>\n",
       "      <td>0.345834</td>\n",
       "      <td>-0.102086</td>\n",
       "    </tr>\n",
       "    <tr>\n",
       "      <th>4</th>\n",
       "      <td>0.339299</td>\n",
       "      <td>-0.192443</td>\n",
       "    </tr>\n",
       "  </tbody>\n",
       "</table>\n",
       "</div>"
      ],
      "text/plain": [
       "   volatility    return\n",
       "0    0.338874 -0.006315\n",
       "1    0.347718 -0.193513\n",
       "2    0.341086 -0.049294\n",
       "3    0.345834 -0.102086\n",
       "4    0.339299 -0.192443"
      ]
     },
     "execution_count": 88,
     "metadata": {},
     "output_type": "execute_result"
    }
   ],
   "source": [
    "mvp = pd.DataFrame(np.array(mvp), columns=['volatility', 'return'])\n",
    "mvp.iloc[:5]"
   ]
  },
  {
   "cell_type": "markdown",
   "id": "7b315bbc",
   "metadata": {},
   "source": [
    "These results can then be **visualized**."
   ]
  },
  {
   "cell_type": "code",
   "execution_count": 91,
   "id": "7476b0a1",
   "metadata": {},
   "outputs": [
    {
     "data": {
      "image/png": "[encoded data removed]",
      "text/plain": [
       "<Figure size 640x480 with 1 Axes>"
      ]
     },
     "metadata": {},
     "output_type": "display_data"
    }
   ],
   "source": [
    "mvp.plot(x='volatility', y='return', kind='scatter')\n",
    "plt.show()"
   ]
  },
  {
   "cell_type": "markdown",
   "id": "22f0d8b8",
   "metadata": {},
   "source": [
    "## Minimum Volatility Portfolio"
   ]
  },
  {
   "cell_type": "markdown",
   "id": "cf67f46f",
   "metadata": {},
   "source": [
    "Let us now derive the portfolio composition that **minimizes the expected volatility** of the portfolio. First, the **boundary conditions** for the single weights (between 0 and 1)."
   ]
  },
  {
   "cell_type": "code",
   "execution_count": 92,
   "id": "dfe27ae0",
   "metadata": {},
   "outputs": [],
   "source": [
    "bounds = len(rics) * [(0, 1)]"
   ]
  },
  {
   "cell_type": "code",
   "execution_count": 93,
   "id": "3f0885c1",
   "metadata": {},
   "outputs": [
    {
     "data": {
      "text/plain": [
       "[(0, 1), (0, 1), (0, 1), (0, 1), (0, 1)]"
      ]
     },
     "execution_count": 93,
     "metadata": {},
     "output_type": "execute_result"
    }
   ],
   "source": [
    "bounds"
   ]
  },
  {
   "cell_type": "markdown",
   "id": "e2c75655",
   "metadata": {},
   "source": [
    "Second, the condition that the **weights add up to 100%**."
   ]
  },
  {
   "cell_type": "code",
   "execution_count": 94,
   "id": "706a8457",
   "metadata": {},
   "outputs": [],
   "source": [
    "constraints = {'type': 'eq', 'fun': lambda weights: weights.sum() - 1} "
   ]
  },
  {
   "cell_type": "code",
   "execution_count": 96,
   "id": "e2f96426",
   "metadata": {},
   "outputs": [],
   "source": [
    "# help(sco.minimize)"
   ]
  },
  {
   "cell_type": "markdown",
   "id": "eb945866",
   "metadata": {},
   "source": [
    "Third, the **function to be minimized**. This is the function `portfolio_volatility()` from above."
   ]
  },
  {
   "cell_type": "markdown",
   "id": "17155962",
   "metadata": {},
   "source": [
    "These three elements are used in combination with the **general minimizer function `sco.minimize()`** to derive the minimum volatility portfolio."
   ]
  },
  {
   "cell_type": "code",
   "execution_count": 97,
   "id": "d6ed25ff",
   "metadata": {},
   "outputs": [],
   "source": [
    "res = sco.minimize(lambda x: portfolio_volatility(rics, x),  # function to be minized\n",
    "                   len(rics) * [1 / len(rics)],  # initial guess\n",
    "                   bounds=bounds,  # boundary conditions\n",
    "                   constraints=constraints  # single equality constraint\n",
    "                  )"
   ]
  },
  {
   "cell_type": "markdown",
   "id": "49ad1b35",
   "metadata": {},
   "source": [
    "The **results** are:"
   ]
  },
  {
   "cell_type": "code",
   "execution_count": 98,
   "id": "d3951390",
   "metadata": {},
   "outputs": [
    {
     "data": {
      "text/plain": [
       "     fun: 0.28891074456482535\n",
       "     jac: array([0.2889914 , 0.28867698, 0.28891001, 0.37747914, 0.28876863])\n",
       " message: 'Optimization terminated successfully'\n",
       "    nfev: 36\n",
       "     nit: 6\n",
       "    njev: 6\n",
       "  status: 0\n",
       " success: True\n",
       "       x: array([5.23089613e-01, 1.12020770e-03, 1.81715525e-01, 2.86229374e-17,\n",
       "       2.94074654e-01])"
      ]
     },
     "execution_count": 98,
     "metadata": {},
     "output_type": "execute_result"
    }
   ],
   "source": [
    "res"
   ]
  },
  {
   "cell_type": "code",
   "execution_count": 99,
   "id": "8e898992",
   "metadata": {},
   "outputs": [
    {
     "data": {
      "text/plain": [
       "0.28891074456482535"
      ]
     },
     "execution_count": 99,
     "metadata": {},
     "output_type": "execute_result"
    }
   ],
   "source": [
    "res['fun']  # minimum volatility"
   ]
  },
  {
   "cell_type": "code",
   "execution_count": 100,
   "id": "1675f541",
   "metadata": {},
   "outputs": [
    {
     "name": "stdout",
     "output_type": "stream",
     "text": [
      " ETHBTC |   0.523\n",
      " LTCBTC |   0.001\n",
      " BNBBTC |   0.182\n",
      " NEOBTC |   0.000\n",
      "QTUMETH |   0.294\n"
     ]
    }
   ],
   "source": [
    "for r in zip(rics, res['x']):\n",
    "    print('%7s | %7.3f' % (r[0], r[1])) # optimal portfolio composition"
   ]
  },
  {
   "cell_type": "code",
   "execution_count": null,
   "id": "08b3a670",
   "metadata": {},
   "outputs": [],
   "source": []
  }
 ],
 "metadata": {
  "kernelspec": {
   "display_name": "Python 3 (ipykernel)",
   "language": "python",
   "name": "python3"
  },
  "language_info": {
   "codemirror_mode": {
    "name": "ipython",
    "version": 3
   },
   "file_extension": ".py",
   "mimetype": "text/x-python",
   "name": "python",
   "nbconvert_exporter": "python",
   "pygments_lexer": "ipython3",
   "version": "3.9.12"
  }
 },
 "nbformat": 4,
 "nbformat_minor": 5
}
